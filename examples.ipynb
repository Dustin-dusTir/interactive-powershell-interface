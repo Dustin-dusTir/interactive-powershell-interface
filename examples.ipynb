{
 "cells": [
  {
   "cell_type": "code",
   "execution_count": 2,
   "metadata": {},
   "outputs": [],
   "source": [
    "from interactive_powershell import InteractivePowershell"
   ]
  },
  {
   "cell_type": "code",
   "execution_count": 3,
   "metadata": {},
   "outputs": [
    {
     "name": "stdout",
     "output_type": "stream",
     "text": [
      "InteractivePowershell.__init__(): Object Initialized\n",
      "InteractivePowershell.__init__():: powershell session started\n"
     ]
    }
   ],
   "source": [
    "ps = InteractivePowershell()"
   ]
  },
  {
   "cell_type": "code",
   "execution_count": 4,
   "metadata": {},
   "outputs": [
    {
     "name": "stdout",
     "output_type": "stream",
     "text": [
      "InteractivePowershell: PS command: ls called\n",
      "InteractivePowershell: PS command: ls finished\n"
     ]
    },
    {
     "data": {
      "text/plain": [
       "['',\n",
       " '',\n",
       " 'Verzeichnis: C:\\\\Git_Repos\\\\Gist-workshop\\\\interactive-powershell-interface',\n",
       " '',\n",
       " '',\n",
       " 'Mode                 LastWriteTime         Length Name',\n",
       " '----                 -------------         ------ ----',\n",
       " 'd-----        11.03.2023     21:10                __pycache__',\n",
       " '-a----        11.03.2023     20:31           3317 examples.ipynb',\n",
       " '-a----        11.03.2023     21:01           4225 interactive_powershell.py',\n",
       " '-a----        11.03.2023     21:07            807 README.md',\n",
       " '',\n",
       " '']"
      ]
     },
     "execution_count": 4,
     "metadata": {},
     "output_type": "execute_result"
    }
   ],
   "source": [
    "ps.execute_command_and_wait_for_output(\"ls\")"
   ]
  },
  {
   "cell_type": "code",
   "execution_count": 5,
   "metadata": {},
   "outputs": [
    {
     "name": "stdout",
     "output_type": "stream",
     "text": [
      "InteractivePowershell: PS command: $s = 'hello world' called\n",
      "InteractivePowershell: PS command: $s = 'hello world' finished\n"
     ]
    },
    {
     "data": {
      "text/plain": [
       "[]"
      ]
     },
     "execution_count": 5,
     "metadata": {},
     "output_type": "execute_result"
    }
   ],
   "source": [
    "ps.execute_command_and_wait_for_output(\"$s = 'hello world'\")"
   ]
  },
  {
   "cell_type": "code",
   "execution_count": 6,
   "metadata": {},
   "outputs": [
    {
     "name": "stdout",
     "output_type": "stream",
     "text": [
      "InteractivePowershell: PS command: $s called\n",
      "InteractivePowershell: PS command: $s finished\n"
     ]
    },
    {
     "data": {
      "text/plain": [
       "['hello world']"
      ]
     },
     "execution_count": 6,
     "metadata": {},
     "output_type": "execute_result"
    }
   ],
   "source": [
    "ps.execute_command_and_wait_for_output(\"$s\")"
   ]
  }
 ],
 "metadata": {
  "kernelspec": {
   "display_name": "Python 3",
   "language": "python",
   "name": "python3"
  },
  "language_info": {
   "codemirror_mode": {
    "name": "ipython",
    "version": 3
   },
   "file_extension": ".py",
   "mimetype": "text/x-python",
   "name": "python",
   "nbconvert_exporter": "python",
   "pygments_lexer": "ipython3",
   "version": "3.10.6"
  },
  "orig_nbformat": 4
 },
 "nbformat": 4,
 "nbformat_minor": 2
}
